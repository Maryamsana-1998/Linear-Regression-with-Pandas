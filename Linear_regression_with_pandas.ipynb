{
  "nbformat": 4,
  "nbformat_minor": 0,
  "metadata": {
    "colab": {
      "name": "Linear regression with pandas",
      "provenance": [],
      "collapsed_sections": []
    },
    "kernelspec": {
      "name": "python3",
      "display_name": "Python 3"
    }
  },
  "cells": [
    {
      "cell_type": "code",
      "metadata": {
        "id": "p6Kxh5SLFYiJ",
        "colab": {
          "base_uri": "https://localhost:8080/"
        },
        "outputId": "d2d34ad7-4a86-46ee-b0eb-8a0c76124691"
      },
      "source": [
        "from google.colab import drive\n",
        "drive.mount('/content/drive')"
      ],
      "execution_count": null,
      "outputs": [
        {
          "output_type": "stream",
          "text": [
            "Mounted at /content/drive\n"
          ],
          "name": "stdout"
        }
      ]
    },
    {
      "cell_type": "code",
      "metadata": {
        "id": "7AOvv_zRHqLv"
      },
      "source": [
        "%cd 'drive/My Drive/'\n",
        "!ls"
      ],
      "execution_count": null,
      "outputs": []
    },
    {
      "cell_type": "code",
      "metadata": {
        "colab": {
          "base_uri": "https://localhost:8080/",
          "height": 690
        },
        "id": "kw7fa0UOVPRx",
        "outputId": "a8e5a632-990b-4185-dfda-39b52477756c"
      },
      "source": [
        "import numpy as np\n",
        "import pandas as pd\n",
        "df = pd.read_csv('Mount_Pleasant_Real_Estate_Data.csv')\n",
        "df.head()\n"
      ],
      "execution_count": null,
      "outputs": [
        {
          "output_type": "execute_result",
          "data": {
            "text/html": [
              "<div>\n",
              "<style scoped>\n",
              "    .dataframe tbody tr th:only-of-type {\n",
              "        vertical-align: middle;\n",
              "    }\n",
              "\n",
              "    .dataframe tbody tr th {\n",
              "        vertical-align: top;\n",
              "    }\n",
              "\n",
              "    .dataframe thead th {\n",
              "        text-align: right;\n",
              "    }\n",
              "</style>\n",
              "<table border=\"1\" class=\"dataframe\">\n",
              "  <thead>\n",
              "    <tr style=\"text-align: right;\">\n",
              "      <th></th>\n",
              "      <th>ID</th>\n",
              "      <th>List Price</th>\n",
              "      <th>Duplex?</th>\n",
              "      <th>Bedrooms</th>\n",
              "      <th>Baths - Total</th>\n",
              "      <th>Baths - Full</th>\n",
              "      <th>Baths - Half</th>\n",
              "      <th>Stories</th>\n",
              "      <th>Subdivision</th>\n",
              "      <th>Square Footage</th>\n",
              "      <th>Year Built</th>\n",
              "      <th>Acreage</th>\n",
              "      <th>New Owned?</th>\n",
              "      <th>House Style</th>\n",
              "      <th>Covered Parking Spots</th>\n",
              "      <th>Misc Exterior</th>\n",
              "      <th>Has Pool?</th>\n",
              "      <th>Has Dock?</th>\n",
              "      <th>Fenced Yard</th>\n",
              "      <th>Screened Porch?</th>\n",
              "      <th>Amenities</th>\n",
              "      <th>Golf Course?</th>\n",
              "      <th>Fireplace?</th>\n",
              "      <th>Number of Fireplaces</th>\n",
              "    </tr>\n",
              "  </thead>\n",
              "  <tbody>\n",
              "    <tr>\n",
              "      <th>0</th>\n",
              "      <td>115.0</td>\n",
              "      <td>$369,900</td>\n",
              "      <td>Yes</td>\n",
              "      <td>3.0</td>\n",
              "      <td>2.5</td>\n",
              "      <td>2.0</td>\n",
              "      <td>1.0</td>\n",
              "      <td>2.0</td>\n",
              "      <td>Carolina Park</td>\n",
              "      <td>1797.0</td>\n",
              "      <td>2017.0</td>\n",
              "      <td>0.06</td>\n",
              "      <td>Yes</td>\n",
              "      <td>Townhouse</td>\n",
              "      <td>2.0</td>\n",
              "      <td>Misc Exterior: Lawn Irrigation; Patio; Porch -...</td>\n",
              "      <td>No</td>\n",
              "      <td>No</td>\n",
              "      <td>No</td>\n",
              "      <td>No</td>\n",
              "      <td>Amenities: Cable TV Available; Lawn Maint Incl...</td>\n",
              "      <td>No</td>\n",
              "      <td>Yes</td>\n",
              "      <td>1.0</td>\n",
              "    </tr>\n",
              "    <tr>\n",
              "      <th>1</th>\n",
              "      <td>117.0</td>\n",
              "      <td>$375,000</td>\n",
              "      <td>Yes</td>\n",
              "      <td>3.0</td>\n",
              "      <td>2.5</td>\n",
              "      <td>2.0</td>\n",
              "      <td>1.0</td>\n",
              "      <td>2.0</td>\n",
              "      <td>Carolina Park</td>\n",
              "      <td>1797.0</td>\n",
              "      <td>2017.0</td>\n",
              "      <td>0.06</td>\n",
              "      <td>Yes</td>\n",
              "      <td>Townhouse</td>\n",
              "      <td>2.0</td>\n",
              "      <td>Misc Exterior: Lawn Irrigation; Patio; Porch -...</td>\n",
              "      <td>No</td>\n",
              "      <td>No</td>\n",
              "      <td>No</td>\n",
              "      <td>No</td>\n",
              "      <td>Amenities: Cable TV Available; Lawn Maint Incl...</td>\n",
              "      <td>No</td>\n",
              "      <td>Yes</td>\n",
              "      <td>1.0</td>\n",
              "    </tr>\n",
              "    <tr>\n",
              "      <th>2</th>\n",
              "      <td>5.0</td>\n",
              "      <td>$769,900</td>\n",
              "      <td>No</td>\n",
              "      <td>4.0</td>\n",
              "      <td>3.5</td>\n",
              "      <td>3.0</td>\n",
              "      <td>1.0</td>\n",
              "      <td>2.0</td>\n",
              "      <td>Carolina Park</td>\n",
              "      <td>2767.0</td>\n",
              "      <td>2014.0</td>\n",
              "      <td>0.35</td>\n",
              "      <td>No</td>\n",
              "      <td>Traditional</td>\n",
              "      <td>2.0</td>\n",
              "      <td>Misc Exterior: Fence - Wooden Enclosed; Lawn I...</td>\n",
              "      <td>No</td>\n",
              "      <td>No</td>\n",
              "      <td>Yes</td>\n",
              "      <td>Yes</td>\n",
              "      <td>Amenities: Cable TV Available; Neighborhood Po...</td>\n",
              "      <td>No</td>\n",
              "      <td>Yes</td>\n",
              "      <td>1.0</td>\n",
              "    </tr>\n",
              "    <tr>\n",
              "      <th>3</th>\n",
              "      <td>9.0</td>\n",
              "      <td>$699,990</td>\n",
              "      <td>No</td>\n",
              "      <td>4.0</td>\n",
              "      <td>3.5</td>\n",
              "      <td>3.0</td>\n",
              "      <td>1.0</td>\n",
              "      <td>2.0</td>\n",
              "      <td>Carolina Park</td>\n",
              "      <td>3240.0</td>\n",
              "      <td>2014.0</td>\n",
              "      <td>0.29</td>\n",
              "      <td>No</td>\n",
              "      <td>Traditional</td>\n",
              "      <td>2.0</td>\n",
              "      <td>Misc Exterior: Fence - Wooden Enclosed; Lawn I...</td>\n",
              "      <td>No</td>\n",
              "      <td>No</td>\n",
              "      <td>Yes</td>\n",
              "      <td>No</td>\n",
              "      <td>Amenities: Cable TV Available; Neighborhood Po...</td>\n",
              "      <td>No</td>\n",
              "      <td>Yes</td>\n",
              "      <td>1.0</td>\n",
              "    </tr>\n",
              "    <tr>\n",
              "      <th>4</th>\n",
              "      <td>62.0</td>\n",
              "      <td>$436,625</td>\n",
              "      <td>No</td>\n",
              "      <td>4.0</td>\n",
              "      <td>3.0</td>\n",
              "      <td>3.0</td>\n",
              "      <td>0.0</td>\n",
              "      <td>2.0</td>\n",
              "      <td>Carolina Park</td>\n",
              "      <td>2072.0</td>\n",
              "      <td>2017.0</td>\n",
              "      <td>0.19</td>\n",
              "      <td>Yes</td>\n",
              "      <td>Traditional</td>\n",
              "      <td>2.0</td>\n",
              "      <td>Misc Exterior: Lawn Irrigation; Patio; Patio -...</td>\n",
              "      <td>No</td>\n",
              "      <td>No</td>\n",
              "      <td>No</td>\n",
              "      <td>No</td>\n",
              "      <td>Amenities: Bus Line; Neighborhood Pool; Play P...</td>\n",
              "      <td>No</td>\n",
              "      <td>No</td>\n",
              "      <td>0.0</td>\n",
              "    </tr>\n",
              "  </tbody>\n",
              "</table>\n",
              "</div>"
            ],
            "text/plain": [
              "      ID List Price Duplex?  ...  Golf Course?  Fireplace?  Number of Fireplaces\n",
              "0  115.0   $369,900     Yes  ...            No         Yes                   1.0\n",
              "1  117.0   $375,000     Yes  ...            No         Yes                   1.0\n",
              "2    5.0   $769,900      No  ...            No         Yes                   1.0\n",
              "3    9.0   $699,990      No  ...            No         Yes                   1.0\n",
              "4   62.0   $436,625      No  ...            No          No                   0.0\n",
              "\n",
              "[5 rows x 24 columns]"
            ]
          },
          "metadata": {
            "tags": []
          },
          "execution_count": 186
        }
      ]
    },
    {
      "cell_type": "code",
      "metadata": {
        "id": "scmi6y9rZ4nI"
      },
      "source": [
        "df['New Owned?'] = df['New Owned?'].apply(lambda x: 0 if x=='No' else 1)\n",
        "df['Has Pool?'] = df['Has Pool?'].apply(lambda x: 0 if x=='No' else 1)\n",
        "df['Has Dock?'] = df['Has Dock?'].apply(lambda x: 0 if x=='No' else 1)\n",
        "df['Fenced Yard'] = df['Fenced Yard'].apply(lambda x: 0 if x=='No' else 1)\n",
        "df['Screened Porch?'] = df['Screened Porch?'].apply(lambda x: 0 if x=='No' else 1)\n",
        "df['Golf Course?'] = df['Golf Course?'].apply(lambda x: 0 if x=='No' else 1)\n",
        "df['Fireplace?'] = df['Fireplace?'].apply(lambda x: 0 if x=='No' else 1)\n",
        "df['Duplex?'] = df['Duplex?'].apply(lambda x: 0 if x=='No' else 1)\n",
        "X = df.drop(['List Price','ID','Baths - Full','House Style','Misc Exterior','Subdivision','Amenities'],axis =1)\n",
        "y = df.iloc[:, 1]"
      ],
      "execution_count": null,
      "outputs": []
    },
    {
      "cell_type": "code",
      "metadata": {
        "colab": {
          "base_uri": "https://localhost:8080/"
        },
        "id": "ad5Msuolhq9R",
        "outputId": "8c288dfa-4e1d-4795-f372-5a94b6cde16b"
      },
      "source": [
        "X = X[:-25]\n",
        "X\n",
        "y= y[:-25]\n",
        "y"
      ],
      "execution_count": null,
      "outputs": [
        {
          "output_type": "execute_result",
          "data": {
            "text/plain": [
              "0        $369,900\n",
              "1        $375,000\n",
              "2        $769,900\n",
              "3        $699,990\n",
              "4        $436,625\n",
              "          ...    \n",
              "240    $1,800,000\n",
              "241    $1,495,000\n",
              "242    $1,399,000\n",
              "243    $1,250,000\n",
              "244    $1,100,000\n",
              "Name: List Price, Length: 245, dtype: object"
            ]
          },
          "metadata": {
            "tags": []
          },
          "execution_count": 188
        }
      ]
    },
    {
      "cell_type": "code",
      "metadata": {
        "colab": {
          "base_uri": "https://localhost:8080/"
        },
        "id": "PYbcPrOflHQw",
        "outputId": "9e76ec5d-7929-45d7-c271-ae04b5c24577"
      },
      "source": [
        "y= y.str.replace('$', '')\n",
        "y= y.str.replace(',', '')\n",
        "y.astype('float')"
      ],
      "execution_count": null,
      "outputs": [
        {
          "output_type": "execute_result",
          "data": {
            "text/plain": [
              "0       369900.0\n",
              "1       375000.0\n",
              "2       769900.0\n",
              "3       699990.0\n",
              "4       436625.0\n",
              "         ...    \n",
              "240    1800000.0\n",
              "241    1495000.0\n",
              "242    1399000.0\n",
              "243    1250000.0\n",
              "244    1100000.0\n",
              "Name: List Price, Length: 245, dtype: float64"
            ]
          },
          "metadata": {
            "tags": []
          },
          "execution_count": 229
        }
      ]
    },
    {
      "cell_type": "code",
      "metadata": {
        "colab": {
          "base_uri": "https://localhost:8080/"
        },
        "id": "baDfbWsaq2UO",
        "outputId": "e2eced99-12ab-48a9-e5b1-6d5d98fa6a3e"
      },
      "source": [
        "from sklearn.linear_model import LinearRegression\n",
        "\n",
        "model = LinearRegression()\n",
        "\n",
        "# fit linear regression\n",
        "model.fit(X, y)\n",
        "\n",
        "# get the slope and intercept of the line best fit\n",
        "print(model.intercept_)\n",
        "# -224.49884070545772\n",
        "\n",
        "print(model.coef_)\n",
        "# 5.96177381\n"
      ],
      "execution_count": null,
      "outputs": [
        {
          "output_type": "stream",
          "text": [
            "-7648082.159549431\n",
            "[-9.28037225e+04 -4.20679759e+04  4.97668975e+04 -6.66570991e+03\n",
            " -2.01032435e+04  1.44628594e+02  3.87608871e+03  5.39148802e+04\n",
            "  9.43343497e+02  1.82414805e+04  1.21229471e+05  3.74694408e+05\n",
            "  2.13490796e+03 -1.10208877e+04  1.26220058e+04 -8.10464876e+04\n",
            "  8.24926092e+04]\n"
          ],
          "name": "stdout"
        }
      ]
    },
    {
      "cell_type": "code",
      "metadata": {
        "colab": {
          "base_uri": "https://localhost:8080/"
        },
        "id": "1_R2Y99VqFZK",
        "outputId": "f80e41c5-2c99-4047-f3f3-da35900a45e9"
      },
      "source": [
        "y_hat= model.predict(X)\n",
        "one =np.ones(25)\n",
        "np.insert(y_hat, 0, one)\n",
        "print(len(y_hat))\n"
      ],
      "execution_count": null,
      "outputs": [
        {
          "output_type": "stream",
          "text": [
            "245\n"
          ],
          "name": "stdout"
        }
      ]
    },
    {
      "cell_type": "code",
      "metadata": {
        "id": "qXbbykr1uly4"
      },
      "source": [
        "y =y.astype(float)"
      ],
      "execution_count": null,
      "outputs": []
    },
    {
      "cell_type": "code",
      "metadata": {
        "id": "f_8qtJspqsZ-"
      },
      "source": [
        "df = df[:-25]"
      ],
      "execution_count": null,
      "outputs": []
    },
    {
      "cell_type": "code",
      "metadata": {
        "colab": {
          "base_uri": "https://localhost:8080/"
        },
        "id": "o5Rtdin2t41U",
        "outputId": "e278be8e-3154-4725-ae07-d195033080d8"
      },
      "source": [
        "df['y_hat']= y_hat\n",
        "df['y']= y\n",
        "df['e']= df['y']-df['y_hat']\n",
        "df['e2'] = df['e']*df['e']"
      ],
      "execution_count": null,
      "outputs": [
        {
          "output_type": "stream",
          "text": [
            "/usr/local/lib/python3.6/dist-packages/ipykernel_launcher.py:1: SettingWithCopyWarning: \n",
            "A value is trying to be set on a copy of a slice from a DataFrame.\n",
            "Try using .loc[row_indexer,col_indexer] = value instead\n",
            "\n",
            "See the caveats in the documentation: https://pandas.pydata.org/pandas-docs/stable/user_guide/indexing.html#returning-a-view-versus-a-copy\n",
            "  \"\"\"Entry point for launching an IPython kernel.\n",
            "/usr/local/lib/python3.6/dist-packages/ipykernel_launcher.py:2: SettingWithCopyWarning: \n",
            "A value is trying to be set on a copy of a slice from a DataFrame.\n",
            "Try using .loc[row_indexer,col_indexer] = value instead\n",
            "\n",
            "See the caveats in the documentation: https://pandas.pydata.org/pandas-docs/stable/user_guide/indexing.html#returning-a-view-versus-a-copy\n",
            "  \n",
            "/usr/local/lib/python3.6/dist-packages/ipykernel_launcher.py:3: SettingWithCopyWarning: \n",
            "A value is trying to be set on a copy of a slice from a DataFrame.\n",
            "Try using .loc[row_indexer,col_indexer] = value instead\n",
            "\n",
            "See the caveats in the documentation: https://pandas.pydata.org/pandas-docs/stable/user_guide/indexing.html#returning-a-view-versus-a-copy\n",
            "  This is separate from the ipykernel package so we can avoid doing imports until\n",
            "/usr/local/lib/python3.6/dist-packages/ipykernel_launcher.py:4: SettingWithCopyWarning: \n",
            "A value is trying to be set on a copy of a slice from a DataFrame.\n",
            "Try using .loc[row_indexer,col_indexer] = value instead\n",
            "\n",
            "See the caveats in the documentation: https://pandas.pydata.org/pandas-docs/stable/user_guide/indexing.html#returning-a-view-versus-a-copy\n",
            "  after removing the cwd from sys.path.\n"
          ],
          "name": "stderr"
        }
      ]
    },
    {
      "cell_type": "code",
      "metadata": {
        "colab": {
          "base_uri": "https://localhost:8080/",
          "height": 690
        },
        "id": "W5E95d17t80m",
        "outputId": "bb883de9-a767-4031-a56a-a9dbb97c9908"
      },
      "source": [
        "df.head()"
      ],
      "execution_count": null,
      "outputs": [
        {
          "output_type": "execute_result",
          "data": {
            "text/html": [
              "<div>\n",
              "<style scoped>\n",
              "    .dataframe tbody tr th:only-of-type {\n",
              "        vertical-align: middle;\n",
              "    }\n",
              "\n",
              "    .dataframe tbody tr th {\n",
              "        vertical-align: top;\n",
              "    }\n",
              "\n",
              "    .dataframe thead th {\n",
              "        text-align: right;\n",
              "    }\n",
              "</style>\n",
              "<table border=\"1\" class=\"dataframe\">\n",
              "  <thead>\n",
              "    <tr style=\"text-align: right;\">\n",
              "      <th></th>\n",
              "      <th>ID</th>\n",
              "      <th>List Price</th>\n",
              "      <th>Duplex?</th>\n",
              "      <th>Bedrooms</th>\n",
              "      <th>Baths - Total</th>\n",
              "      <th>Baths - Full</th>\n",
              "      <th>Baths - Half</th>\n",
              "      <th>Stories</th>\n",
              "      <th>Subdivision</th>\n",
              "      <th>Square Footage</th>\n",
              "      <th>Year Built</th>\n",
              "      <th>Acreage</th>\n",
              "      <th>New Owned?</th>\n",
              "      <th>House Style</th>\n",
              "      <th>Covered Parking Spots</th>\n",
              "      <th>Misc Exterior</th>\n",
              "      <th>Has Pool?</th>\n",
              "      <th>Has Dock?</th>\n",
              "      <th>Fenced Yard</th>\n",
              "      <th>Screened Porch?</th>\n",
              "      <th>Amenities</th>\n",
              "      <th>Golf Course?</th>\n",
              "      <th>Fireplace?</th>\n",
              "      <th>Number of Fireplaces</th>\n",
              "      <th>y_hat</th>\n",
              "      <th>y</th>\n",
              "      <th>e</th>\n",
              "      <th>e2</th>\n",
              "    </tr>\n",
              "  </thead>\n",
              "  <tbody>\n",
              "    <tr>\n",
              "      <th>0</th>\n",
              "      <td>115.0</td>\n",
              "      <td>$369,900</td>\n",
              "      <td>1</td>\n",
              "      <td>3.0</td>\n",
              "      <td>2.5</td>\n",
              "      <td>2.0</td>\n",
              "      <td>1.0</td>\n",
              "      <td>2.0</td>\n",
              "      <td>Carolina Park</td>\n",
              "      <td>1797.0</td>\n",
              "      <td>2017.0</td>\n",
              "      <td>0.06</td>\n",
              "      <td>1</td>\n",
              "      <td>Townhouse</td>\n",
              "      <td>2.0</td>\n",
              "      <td>Misc Exterior: Lawn Irrigation; Patio; Porch -...</td>\n",
              "      <td>0</td>\n",
              "      <td>0</td>\n",
              "      <td>0</td>\n",
              "      <td>0</td>\n",
              "      <td>Amenities: Cable TV Available; Lawn Maint Incl...</td>\n",
              "      <td>0</td>\n",
              "      <td>1</td>\n",
              "      <td>1.0</td>\n",
              "      <td>330531.070924</td>\n",
              "      <td>369900.0</td>\n",
              "      <td>39368.929076</td>\n",
              "      <td>1.549913e+09</td>\n",
              "    </tr>\n",
              "    <tr>\n",
              "      <th>1</th>\n",
              "      <td>117.0</td>\n",
              "      <td>$375,000</td>\n",
              "      <td>1</td>\n",
              "      <td>3.0</td>\n",
              "      <td>2.5</td>\n",
              "      <td>2.0</td>\n",
              "      <td>1.0</td>\n",
              "      <td>2.0</td>\n",
              "      <td>Carolina Park</td>\n",
              "      <td>1797.0</td>\n",
              "      <td>2017.0</td>\n",
              "      <td>0.06</td>\n",
              "      <td>1</td>\n",
              "      <td>Townhouse</td>\n",
              "      <td>2.0</td>\n",
              "      <td>Misc Exterior: Lawn Irrigation; Patio; Porch -...</td>\n",
              "      <td>0</td>\n",
              "      <td>0</td>\n",
              "      <td>0</td>\n",
              "      <td>0</td>\n",
              "      <td>Amenities: Cable TV Available; Lawn Maint Incl...</td>\n",
              "      <td>0</td>\n",
              "      <td>1</td>\n",
              "      <td>1.0</td>\n",
              "      <td>330531.070924</td>\n",
              "      <td>375000.0</td>\n",
              "      <td>44468.929076</td>\n",
              "      <td>1.977486e+09</td>\n",
              "    </tr>\n",
              "    <tr>\n",
              "      <th>2</th>\n",
              "      <td>5.0</td>\n",
              "      <td>$769,900</td>\n",
              "      <td>0</td>\n",
              "      <td>4.0</td>\n",
              "      <td>3.5</td>\n",
              "      <td>3.0</td>\n",
              "      <td>1.0</td>\n",
              "      <td>2.0</td>\n",
              "      <td>Carolina Park</td>\n",
              "      <td>2767.0</td>\n",
              "      <td>2014.0</td>\n",
              "      <td>0.35</td>\n",
              "      <td>0</td>\n",
              "      <td>Traditional</td>\n",
              "      <td>2.0</td>\n",
              "      <td>Misc Exterior: Fence - Wooden Enclosed; Lawn I...</td>\n",
              "      <td>0</td>\n",
              "      <td>0</td>\n",
              "      <td>1</td>\n",
              "      <td>1</td>\n",
              "      <td>Amenities: Cable TV Available; Neighborhood Po...</td>\n",
              "      <td>0</td>\n",
              "      <td>1</td>\n",
              "      <td>1.0</td>\n",
              "      <td>565501.177274</td>\n",
              "      <td>769900.0</td>\n",
              "      <td>204398.822726</td>\n",
              "      <td>4.177888e+10</td>\n",
              "    </tr>\n",
              "    <tr>\n",
              "      <th>3</th>\n",
              "      <td>9.0</td>\n",
              "      <td>$699,990</td>\n",
              "      <td>0</td>\n",
              "      <td>4.0</td>\n",
              "      <td>3.5</td>\n",
              "      <td>3.0</td>\n",
              "      <td>1.0</td>\n",
              "      <td>2.0</td>\n",
              "      <td>Carolina Park</td>\n",
              "      <td>3240.0</td>\n",
              "      <td>2014.0</td>\n",
              "      <td>0.29</td>\n",
              "      <td>0</td>\n",
              "      <td>Traditional</td>\n",
              "      <td>2.0</td>\n",
              "      <td>Misc Exterior: Fence - Wooden Enclosed; Lawn I...</td>\n",
              "      <td>0</td>\n",
              "      <td>0</td>\n",
              "      <td>1</td>\n",
              "      <td>0</td>\n",
              "      <td>Amenities: Cable TV Available; Neighborhood Po...</td>\n",
              "      <td>0</td>\n",
              "      <td>1</td>\n",
              "      <td>1.0</td>\n",
              "      <td>641696.497264</td>\n",
              "      <td>699990.0</td>\n",
              "      <td>58293.502736</td>\n",
              "      <td>3.398132e+09</td>\n",
              "    </tr>\n",
              "    <tr>\n",
              "      <th>4</th>\n",
              "      <td>62.0</td>\n",
              "      <td>$436,625</td>\n",
              "      <td>0</td>\n",
              "      <td>4.0</td>\n",
              "      <td>3.0</td>\n",
              "      <td>3.0</td>\n",
              "      <td>0.0</td>\n",
              "      <td>2.0</td>\n",
              "      <td>Carolina Park</td>\n",
              "      <td>2072.0</td>\n",
              "      <td>2017.0</td>\n",
              "      <td>0.19</td>\n",
              "      <td>1</td>\n",
              "      <td>Traditional</td>\n",
              "      <td>2.0</td>\n",
              "      <td>Misc Exterior: Lawn Irrigation; Patio; Patio -...</td>\n",
              "      <td>0</td>\n",
              "      <td>0</td>\n",
              "      <td>0</td>\n",
              "      <td>0</td>\n",
              "      <td>Amenities: Bus Line; Neighborhood Pool; Play P...</td>\n",
              "      <td>0</td>\n",
              "      <td>0</td>\n",
              "      <td>0.0</td>\n",
              "      <td>458151.652399</td>\n",
              "      <td>436625.0</td>\n",
              "      <td>-21526.652399</td>\n",
              "      <td>4.633968e+08</td>\n",
              "    </tr>\n",
              "  </tbody>\n",
              "</table>\n",
              "</div>"
            ],
            "text/plain": [
              "      ID List Price  Duplex?  ...         y              e            e2\n",
              "0  115.0   $369,900        1  ...  369900.0   39368.929076  1.549913e+09\n",
              "1  117.0   $375,000        1  ...  375000.0   44468.929076  1.977486e+09\n",
              "2    5.0   $769,900        0  ...  769900.0  204398.822726  4.177888e+10\n",
              "3    9.0   $699,990        0  ...  699990.0   58293.502736  3.398132e+09\n",
              "4   62.0   $436,625        0  ...  436625.0  -21526.652399  4.633968e+08\n",
              "\n",
              "[5 rows x 28 columns]"
            ]
          },
          "metadata": {
            "tags": []
          },
          "execution_count": 233
        }
      ]
    },
    {
      "cell_type": "code",
      "metadata": {
        "colab": {
          "base_uri": "https://localhost:8080/"
        },
        "id": "ZlW61Tx_vHaT",
        "outputId": "01b404f5-1208-434c-abf2-75ca1310f296"
      },
      "source": [
        "ss = np.sqrt(df['e2'].sum()/245-2)\n",
        "print(ss)"
      ],
      "execution_count": null,
      "outputs": [
        {
          "output_type": "stream",
          "text": [
            "94008.17643085714\n"
          ],
          "name": "stdout"
        }
      ]
    },
    {
      "cell_type": "code",
      "metadata": {
        "colab": {
          "base_uri": "https://localhost:8080/"
        },
        "id": "Rc3KhEuUvTYl",
        "outputId": "c06ce552-8fbd-44cf-dfa5-9db49907e9d1"
      },
      "source": [
        "SE=[]\n",
        "Bi = model.coef_\n",
        "variable =[df['Duplex?'],df['Bedrooms'],df['Baths - Total'],df['Baths - Half'],df['Stories'], df['Square Footage'],df['Year Built'],df['Acreage'],df['New Owned?'],df['Covered Parking Spots'],df['Has Pool?'],df['Has Dock?'],df['Fenced Yard'],df['Screened Porch?'],df['Golf Course?'],df['Fireplace?'],df['Number of Fireplaces']]\n",
        "variable = np.sum(variable,axis=1)\n",
        "print(len(variable))\n",
        "var = np.sqrt(variable)\n",
        "len(var)\n",
        "SE = ss/ var\n",
        "len(SE)"
      ],
      "execution_count": null,
      "outputs": [
        {
          "output_type": "stream",
          "text": [
            "17\n"
          ],
          "name": "stdout"
        },
        {
          "output_type": "execute_result",
          "data": {
            "text/plain": [
              "17"
            ]
          },
          "metadata": {
            "tags": []
          },
          "execution_count": 242
        }
      ]
    },
    {
      "cell_type": "code",
      "metadata": {
        "id": "5sWaAh_gyPJC"
      },
      "source": [
        "sig_level = 0.1 \n",
        "t_val =  Bi/SE \n",
        "for t in t_val:\n",
        "  if t<"
      ],
      "execution_count": null,
      "outputs": []
    },
    {
      "cell_type": "code",
      "metadata": {
        "colab": {
          "base_uri": "https://localhost:8080/"
        },
        "id": "xIGwLPV0fwCu",
        "outputId": "0ab3febf-41d3-4d83-a4f6-0251de1ed5a0"
      },
      "source": [
        "from sklearn import datasets, linear_model\n",
        "from sklearn.linear_model import LinearRegression\n",
        "import statsmodels.api as sm\n",
        "from scipy import stats\n",
        "import matplotlib.pyplot as plt\n",
        "\n",
        "X2 = sm.add_constant(X) \n",
        "est2 = sm.OLS(y.astype(float), X.astype(float)).fit()\n",
        "print(\"summary()\\n\",est2.summary())\n",
        "print(\"pvalues\\n\",est2.pvalues)\n",
        "print(\"rsquared\\n\",est2.rsquared)\n",
        "print(\"rsquared_adj\\n\",est2.rsquared_adj)"
      ],
      "execution_count": null,
      "outputs": [
        {
          "output_type": "stream",
          "text": [
            "summary()\n",
            "                                  OLS Regression Results                                \n",
            "=======================================================================================\n",
            "Dep. Variable:             List Price   R-squared (uncentered):                   0.982\n",
            "Model:                            OLS   Adj. R-squared (uncentered):              0.981\n",
            "Method:                 Least Squares   F-statistic:                              729.2\n",
            "Date:                Mon, 07 Dec 2020   Prob (F-statistic):                   4.06e-188\n",
            "Time:                        19:25:32   Log-Likelihood:                         -3156.4\n",
            "No. Observations:                 245   AIC:                                      6347.\n",
            "Df Residuals:                     228   BIC:                                      6406.\n",
            "Df Model:                          17                                                  \n",
            "Covariance Type:            nonrobust                                                  \n",
            "=========================================================================================\n",
            "                            coef    std err          t      P>|t|      [0.025      0.975]\n",
            "-----------------------------------------------------------------------------------------\n",
            "Duplex?               -8.776e+04    2.5e+04     -3.514      0.001   -1.37e+05   -3.86e+04\n",
            "Bedrooms              -4.298e+04    1.3e+04     -3.313      0.001   -6.85e+04   -1.74e+04\n",
            "Baths - Total          5.587e+04   1.38e+04      4.053      0.000    2.87e+04     8.3e+04\n",
            "Baths - Half          -1.114e+04   1.36e+04     -0.819      0.414    -3.8e+04    1.57e+04\n",
            "Stories               -1.734e+04   1.45e+04     -1.199      0.232   -4.58e+04    1.12e+04\n",
            "Square Footage          146.6490     14.383     10.196      0.000     118.308     174.990\n",
            "Year Built               49.7157     20.760      2.395      0.017       8.809      90.622\n",
            "Acreage                4.837e+04    2.2e+04      2.196      0.029    4960.961    9.18e+04\n",
            "New Owned?             4.454e+04   1.49e+04      2.992      0.003    1.52e+04    7.39e+04\n",
            "Covered Parking Spots  1.955e+04   8829.591      2.214      0.028    2152.429    3.69e+04\n",
            "Has Pool?              1.094e+05   2.74e+04      3.988      0.000    5.53e+04    1.63e+05\n",
            "Has Dock?               3.74e+05   2.72e+04     13.763      0.000     3.2e+05    4.28e+05\n",
            "Fenced Yard            1.023e+04   1.77e+04      0.579      0.563   -2.46e+04     4.5e+04\n",
            "Screened Porch?       -6523.2841   1.49e+04     -0.439      0.661   -3.58e+04    2.28e+04\n",
            "Golf Course?            296.7744   1.65e+04      0.018      0.986   -3.22e+04    3.28e+04\n",
            "Fireplace?            -7.829e+04   3.25e+04     -2.406      0.017   -1.42e+05   -1.42e+04\n",
            "Number of Fireplaces   7.608e+04   2.57e+04      2.964      0.003    2.55e+04    1.27e+05\n",
            "==============================================================================\n",
            "Omnibus:                       26.760   Durbin-Watson:                   1.685\n",
            "Prob(Omnibus):                  0.000   Jarque-Bera (JB):               71.294\n",
            "Skew:                           0.454   Prob(JB):                     3.30e-16\n",
            "Kurtosis:                       5.482   Cond. No.                     2.39e+04\n",
            "==============================================================================\n",
            "\n",
            "Warnings:\n",
            "[1] Standard Errors assume that the covariance matrix of the errors is correctly specified.\n",
            "[2] The condition number is large, 2.39e+04. This might indicate that there are\n",
            "strong multicollinearity or other numerical problems.\n",
            "pvalues\n",
            " Duplex?                  5.321689e-04\n",
            "Bedrooms                 1.072882e-03\n",
            "Baths - Total            6.931609e-05\n",
            "Baths - Half             4.138763e-01\n",
            "Stories                  2.317792e-01\n",
            "Square Footage           2.352986e-20\n",
            "Year Built               1.743943e-02\n",
            "Acreage                  2.912667e-02\n",
            "New Owned?               3.077372e-03\n",
            "Covered Parking Spots    2.780532e-02\n",
            "Has Pool?                8.966573e-05\n",
            "Has Dock?                8.903840e-32\n",
            "Fenced Yard              5.632851e-01\n",
            "Screened Porch?          6.612408e-01\n",
            "Golf Course?             9.856755e-01\n",
            "Fireplace?               1.691110e-02\n",
            "Number of Fireplaces     3.355093e-03\n",
            "dtype: float64\n",
            "rsquared\n",
            " 0.9819386166840198\n",
            "rsquared_adj\n",
            " 0.9805919345946704\n"
          ],
          "name": "stdout"
        }
      ]
    },
    {
      "cell_type": "code",
      "metadata": {
        "colab": {
          "base_uri": "https://localhost:8080/"
        },
        "id": "xq1yOK1gq1EH",
        "outputId": "fc6ea5ad-a155-46ff-80da-baae8731d71b"
      },
      "source": [
        "print(\"Null hypothesis Ho : no correlation\")\n",
        "for i in est2.pvalues:\n",
        "  if i<0.01:\n",
        "    print(\"reject null hypothesis\")\n",
        "  else:\n",
        "    print(\"accept null hypothesis\")"
      ],
      "execution_count": null,
      "outputs": [
        {
          "output_type": "stream",
          "text": [
            "Null hypothesis Ho : no correlation\n",
            "reject null hypothesis\n",
            "reject null hypothesis\n",
            "reject null hypothesis\n",
            "accept null hypothesis\n",
            "accept null hypothesis\n",
            "reject null hypothesis\n",
            "accept null hypothesis\n",
            "accept null hypothesis\n",
            "reject null hypothesis\n",
            "accept null hypothesis\n",
            "reject null hypothesis\n",
            "reject null hypothesis\n",
            "accept null hypothesis\n",
            "accept null hypothesis\n",
            "accept null hypothesis\n",
            "accept null hypothesis\n",
            "reject null hypothesis\n"
          ],
          "name": "stdout"
        }
      ]
    },
    {
      "cell_type": "code",
      "metadata": {
        "colab": {
          "base_uri": "https://localhost:8080/",
          "height": 202
        },
        "id": "HkyjGi7osjOE",
        "outputId": "9bc789d0-79b6-448f-c50d-14005d4e7f12"
      },
      "source": [
        "df = pd.read_csv('MLM.csv')\n",
        "df.head()\n"
      ],
      "execution_count": null,
      "outputs": [
        {
          "output_type": "execute_result",
          "data": {
            "text/html": [
              "<div>\n",
              "<style scoped>\n",
              "    .dataframe tbody tr th:only-of-type {\n",
              "        vertical-align: middle;\n",
              "    }\n",
              "\n",
              "    .dataframe tbody tr th {\n",
              "        vertical-align: top;\n",
              "    }\n",
              "\n",
              "    .dataframe thead th {\n",
              "        text-align: right;\n",
              "    }\n",
              "</style>\n",
              "<table border=\"1\" class=\"dataframe\">\n",
              "  <thead>\n",
              "    <tr style=\"text-align: right;\">\n",
              "      <th></th>\n",
              "      <th>Date</th>\n",
              "      <th>Open</th>\n",
              "      <th>High</th>\n",
              "      <th>Low</th>\n",
              "      <th>Close</th>\n",
              "      <th>Adj Close</th>\n",
              "      <th>Volume</th>\n",
              "    </tr>\n",
              "  </thead>\n",
              "  <tbody>\n",
              "    <tr>\n",
              "      <th>0</th>\n",
              "      <td>1994-02-17</td>\n",
              "      <td>25.500</td>\n",
              "      <td>25.875</td>\n",
              "      <td>24.50</td>\n",
              "      <td>24.625</td>\n",
              "      <td>16.823343</td>\n",
              "      <td>4478600</td>\n",
              "    </tr>\n",
              "    <tr>\n",
              "      <th>1</th>\n",
              "      <td>1994-02-18</td>\n",
              "      <td>24.750</td>\n",
              "      <td>25.000</td>\n",
              "      <td>24.25</td>\n",
              "      <td>24.625</td>\n",
              "      <td>16.823343</td>\n",
              "      <td>777900</td>\n",
              "    </tr>\n",
              "    <tr>\n",
              "      <th>2</th>\n",
              "      <td>1994-02-22</td>\n",
              "      <td>24.250</td>\n",
              "      <td>24.500</td>\n",
              "      <td>24.00</td>\n",
              "      <td>24.375</td>\n",
              "      <td>16.652548</td>\n",
              "      <td>361900</td>\n",
              "    </tr>\n",
              "    <tr>\n",
              "      <th>3</th>\n",
              "      <td>1994-02-23</td>\n",
              "      <td>24.375</td>\n",
              "      <td>24.500</td>\n",
              "      <td>23.25</td>\n",
              "      <td>23.250</td>\n",
              "      <td>15.883961</td>\n",
              "      <td>284500</td>\n",
              "    </tr>\n",
              "    <tr>\n",
              "      <th>4</th>\n",
              "      <td>1994-02-24</td>\n",
              "      <td>23.125</td>\n",
              "      <td>23.250</td>\n",
              "      <td>22.75</td>\n",
              "      <td>23.000</td>\n",
              "      <td>15.713171</td>\n",
              "      <td>494600</td>\n",
              "    </tr>\n",
              "  </tbody>\n",
              "</table>\n",
              "</div>"
            ],
            "text/plain": [
              "         Date    Open    High    Low   Close  Adj Close   Volume\n",
              "0  1994-02-17  25.500  25.875  24.50  24.625  16.823343  4478600\n",
              "1  1994-02-18  24.750  25.000  24.25  24.625  16.823343   777900\n",
              "2  1994-02-22  24.250  24.500  24.00  24.375  16.652548   361900\n",
              "3  1994-02-23  24.375  24.500  23.25  23.250  15.883961   284500\n",
              "4  1994-02-24  23.125  23.250  22.75  23.000  15.713171   494600"
            ]
          },
          "metadata": {
            "tags": []
          },
          "execution_count": 106
        }
      ]
    },
    {
      "cell_type": "code",
      "metadata": {
        "id": "f7DSS6jh2JV6"
      },
      "source": [
        "df = pd.DataFrame(df)\n"
      ],
      "execution_count": null,
      "outputs": []
    },
    {
      "cell_type": "code",
      "metadata": {
        "colab": {
          "base_uri": "https://localhost:8080/"
        },
        "id": "eI1OtcO41zkR",
        "outputId": "f6105a14-2f8f-4732-8b64-142701835e9d"
      },
      "source": [
        "df.dtypes"
      ],
      "execution_count": null,
      "outputs": [
        {
          "output_type": "execute_result",
          "data": {
            "text/plain": [
              "Date          object\n",
              "Open         float64\n",
              "High         float64\n",
              "Low          float64\n",
              "Close        float64\n",
              "Adj Close    float64\n",
              "Volume         int64\n",
              "dtype: object"
            ]
          },
          "metadata": {
            "tags": []
          },
          "execution_count": 112
        }
      ]
    },
    {
      "cell_type": "code",
      "metadata": {
        "id": "y6yZXtBX2mFX"
      },
      "source": [
        "df = df.drop(['Open','Low','High','Volume','Adj Close'],axis=1)\n",
        "df['pct_change'] = df.Close.pct_change()\n",
        "df['log_ret'] = np.log(df.Close) - np.log(df.Close.shift(1))\n",
        "df['volatility'] = df['log_ret'].rolling(7).std()*np.sqrt(7)\n",
        "df.head()\n",
        "df.dropna()"
      ],
      "execution_count": null,
      "outputs": []
    },
    {
      "cell_type": "code",
      "metadata": {
        "colab": {
          "base_uri": "https://localhost:8080/",
          "height": 415
        },
        "id": "bgVITr1M2-tf",
        "outputId": "757066f2-1c08-479f-ff34-512a9e18f0f1"
      },
      "source": [
        "df.head()\n",
        "df.dropna()"
      ],
      "execution_count": null,
      "outputs": [
        {
          "output_type": "execute_result",
          "data": {
            "text/html": [
              "<div>\n",
              "<style scoped>\n",
              "    .dataframe tbody tr th:only-of-type {\n",
              "        vertical-align: middle;\n",
              "    }\n",
              "\n",
              "    .dataframe tbody tr th {\n",
              "        vertical-align: top;\n",
              "    }\n",
              "\n",
              "    .dataframe thead th {\n",
              "        text-align: right;\n",
              "    }\n",
              "</style>\n",
              "<table border=\"1\" class=\"dataframe\">\n",
              "  <thead>\n",
              "    <tr style=\"text-align: right;\">\n",
              "      <th></th>\n",
              "      <th>Date</th>\n",
              "      <th>Close</th>\n",
              "      <th>pct_change</th>\n",
              "      <th>log_ret</th>\n",
              "      <th>volatility</th>\n",
              "    </tr>\n",
              "  </thead>\n",
              "  <tbody>\n",
              "    <tr>\n",
              "      <th>7</th>\n",
              "      <td>1994-03-01</td>\n",
              "      <td>23.250000</td>\n",
              "      <td>-0.026178</td>\n",
              "      <td>-0.026527</td>\n",
              "      <td>0.066083</td>\n",
              "    </tr>\n",
              "    <tr>\n",
              "      <th>8</th>\n",
              "      <td>1994-03-02</td>\n",
              "      <td>22.750000</td>\n",
              "      <td>-0.021505</td>\n",
              "      <td>-0.021740</td>\n",
              "      <td>0.066507</td>\n",
              "    </tr>\n",
              "    <tr>\n",
              "      <th>9</th>\n",
              "      <td>1994-03-03</td>\n",
              "      <td>22.875000</td>\n",
              "      <td>0.005495</td>\n",
              "      <td>0.005479</td>\n",
              "      <td>0.068628</td>\n",
              "    </tr>\n",
              "    <tr>\n",
              "      <th>10</th>\n",
              "      <td>1994-03-04</td>\n",
              "      <td>23.125000</td>\n",
              "      <td>0.010929</td>\n",
              "      <td>0.010870</td>\n",
              "      <td>0.053946</td>\n",
              "    </tr>\n",
              "    <tr>\n",
              "      <th>11</th>\n",
              "      <td>1994-03-07</td>\n",
              "      <td>23.000000</td>\n",
              "      <td>-0.005405</td>\n",
              "      <td>-0.005420</td>\n",
              "      <td>0.053037</td>\n",
              "    </tr>\n",
              "    <tr>\n",
              "      <th>...</th>\n",
              "      <td>...</td>\n",
              "      <td>...</td>\n",
              "      <td>...</td>\n",
              "      <td>...</td>\n",
              "      <td>...</td>\n",
              "    </tr>\n",
              "    <tr>\n",
              "      <th>6744</th>\n",
              "      <td>2020-12-01</td>\n",
              "      <td>275.470001</td>\n",
              "      <td>0.037044</td>\n",
              "      <td>0.036374</td>\n",
              "      <td>0.057991</td>\n",
              "    </tr>\n",
              "    <tr>\n",
              "      <th>6745</th>\n",
              "      <td>2020-12-02</td>\n",
              "      <td>273.459991</td>\n",
              "      <td>-0.007297</td>\n",
              "      <td>-0.007323</td>\n",
              "      <td>0.055751</td>\n",
              "    </tr>\n",
              "    <tr>\n",
              "      <th>6746</th>\n",
              "      <td>2020-12-03</td>\n",
              "      <td>281.149994</td>\n",
              "      <td>0.028121</td>\n",
              "      <td>0.027733</td>\n",
              "      <td>0.060567</td>\n",
              "    </tr>\n",
              "    <tr>\n",
              "      <th>6747</th>\n",
              "      <td>2020-12-04</td>\n",
              "      <td>284.940002</td>\n",
              "      <td>0.013480</td>\n",
              "      <td>0.013390</td>\n",
              "      <td>0.055590</td>\n",
              "    </tr>\n",
              "    <tr>\n",
              "      <th>6748</th>\n",
              "      <td>2020-12-07</td>\n",
              "      <td>283.420013</td>\n",
              "      <td>-0.005334</td>\n",
              "      <td>-0.005349</td>\n",
              "      <td>0.054867</td>\n",
              "    </tr>\n",
              "  </tbody>\n",
              "</table>\n",
              "<p>6742 rows × 5 columns</p>\n",
              "</div>"
            ],
            "text/plain": [
              "            Date       Close  pct_change   log_ret  volatility\n",
              "7     1994-03-01   23.250000   -0.026178 -0.026527    0.066083\n",
              "8     1994-03-02   22.750000   -0.021505 -0.021740    0.066507\n",
              "9     1994-03-03   22.875000    0.005495  0.005479    0.068628\n",
              "10    1994-03-04   23.125000    0.010929  0.010870    0.053946\n",
              "11    1994-03-07   23.000000   -0.005405 -0.005420    0.053037\n",
              "...          ...         ...         ...       ...         ...\n",
              "6744  2020-12-01  275.470001    0.037044  0.036374    0.057991\n",
              "6745  2020-12-02  273.459991   -0.007297 -0.007323    0.055751\n",
              "6746  2020-12-03  281.149994    0.028121  0.027733    0.060567\n",
              "6747  2020-12-04  284.940002    0.013480  0.013390    0.055590\n",
              "6748  2020-12-07  283.420013   -0.005334 -0.005349    0.054867\n",
              "\n",
              "[6742 rows x 5 columns]"
            ]
          },
          "metadata": {
            "tags": []
          },
          "execution_count": 121
        }
      ]
    },
    {
      "cell_type": "code",
      "metadata": {
        "id": "zaB4xHm46dm8"
      },
      "source": [
        "start_date = \"2017-1-1\"\n",
        "end_date = \"2017-12-30\"\n",
        "\n",
        "after_start_date = df['Date'] >= start_date\n",
        "before_end_date = df['Date'] <= end_date\n",
        "between_two_dates = after_start_date & before_end_date\n",
        "filtered_dates = df.loc[between_two_dates]"
      ],
      "execution_count": null,
      "outputs": []
    },
    {
      "cell_type": "code",
      "metadata": {
        "colab": {
          "base_uri": "https://localhost:8080/",
          "height": 415
        },
        "id": "LBTcmkaQ7Wyw",
        "outputId": "e48a70be-57ba-4567-81c9-39ccb2d7be20"
      },
      "source": [
        "filtered_dates"
      ],
      "execution_count": null,
      "outputs": [
        {
          "output_type": "execute_result",
          "data": {
            "text/html": [
              "<div>\n",
              "<style scoped>\n",
              "    .dataframe tbody tr th:only-of-type {\n",
              "        vertical-align: middle;\n",
              "    }\n",
              "\n",
              "    .dataframe tbody tr th {\n",
              "        vertical-align: top;\n",
              "    }\n",
              "\n",
              "    .dataframe thead th {\n",
              "        text-align: right;\n",
              "    }\n",
              "</style>\n",
              "<table border=\"1\" class=\"dataframe\">\n",
              "  <thead>\n",
              "    <tr style=\"text-align: right;\">\n",
              "      <th></th>\n",
              "      <th>Date</th>\n",
              "      <th>Close</th>\n",
              "      <th>pct_change</th>\n",
              "      <th>log_ret</th>\n",
              "      <th>volatility</th>\n",
              "    </tr>\n",
              "  </thead>\n",
              "  <tbody>\n",
              "    <tr>\n",
              "      <th>5947</th>\n",
              "      <td>2017-10-02</td>\n",
              "      <td>204.990005</td>\n",
              "      <td>-0.006013</td>\n",
              "      <td>-0.006031</td>\n",
              "      <td>0.037980</td>\n",
              "    </tr>\n",
              "    <tr>\n",
              "      <th>5948</th>\n",
              "      <td>2017-10-03</td>\n",
              "      <td>206.410004</td>\n",
              "      <td>0.006927</td>\n",
              "      <td>0.006903</td>\n",
              "      <td>0.036460</td>\n",
              "    </tr>\n",
              "    <tr>\n",
              "      <th>5949</th>\n",
              "      <td>2017-10-04</td>\n",
              "      <td>205.970001</td>\n",
              "      <td>-0.002132</td>\n",
              "      <td>-0.002134</td>\n",
              "      <td>0.031362</td>\n",
              "    </tr>\n",
              "    <tr>\n",
              "      <th>5950</th>\n",
              "      <td>2017-10-05</td>\n",
              "      <td>209.910004</td>\n",
              "      <td>0.019129</td>\n",
              "      <td>0.018948</td>\n",
              "      <td>0.032790</td>\n",
              "    </tr>\n",
              "    <tr>\n",
              "      <th>5951</th>\n",
              "      <td>2017-10-06</td>\n",
              "      <td>205.949997</td>\n",
              "      <td>-0.018865</td>\n",
              "      <td>-0.019045</td>\n",
              "      <td>0.033245</td>\n",
              "    </tr>\n",
              "    <tr>\n",
              "      <th>...</th>\n",
              "      <td>...</td>\n",
              "      <td>...</td>\n",
              "      <td>...</td>\n",
              "      <td>...</td>\n",
              "      <td>...</td>\n",
              "    </tr>\n",
              "    <tr>\n",
              "      <th>6005</th>\n",
              "      <td>2017-12-22</td>\n",
              "      <td>211.100006</td>\n",
              "      <td>0.002898</td>\n",
              "      <td>0.002894</td>\n",
              "      <td>0.052124</td>\n",
              "    </tr>\n",
              "    <tr>\n",
              "      <th>6006</th>\n",
              "      <td>2017-12-26</td>\n",
              "      <td>217.570007</td>\n",
              "      <td>0.030649</td>\n",
              "      <td>0.030189</td>\n",
              "      <td>0.044559</td>\n",
              "    </tr>\n",
              "    <tr>\n",
              "      <th>6007</th>\n",
              "      <td>2017-12-27</td>\n",
              "      <td>218.199997</td>\n",
              "      <td>0.002896</td>\n",
              "      <td>0.002891</td>\n",
              "      <td>0.045179</td>\n",
              "    </tr>\n",
              "    <tr>\n",
              "      <th>6008</th>\n",
              "      <td>2017-12-28</td>\n",
              "      <td>217.460007</td>\n",
              "      <td>-0.003391</td>\n",
              "      <td>-0.003397</td>\n",
              "      <td>0.046102</td>\n",
              "    </tr>\n",
              "    <tr>\n",
              "      <th>6009</th>\n",
              "      <td>2017-12-29</td>\n",
              "      <td>221.039993</td>\n",
              "      <td>0.016463</td>\n",
              "      <td>0.016329</td>\n",
              "      <td>0.035272</td>\n",
              "    </tr>\n",
              "  </tbody>\n",
              "</table>\n",
              "<p>63 rows × 5 columns</p>\n",
              "</div>"
            ],
            "text/plain": [
              "            Date       Close  pct_change   log_ret  volatility\n",
              "5947  2017-10-02  204.990005   -0.006013 -0.006031    0.037980\n",
              "5948  2017-10-03  206.410004    0.006927  0.006903    0.036460\n",
              "5949  2017-10-04  205.970001   -0.002132 -0.002134    0.031362\n",
              "5950  2017-10-05  209.910004    0.019129  0.018948    0.032790\n",
              "5951  2017-10-06  205.949997   -0.018865 -0.019045    0.033245\n",
              "...          ...         ...         ...       ...         ...\n",
              "6005  2017-12-22  211.100006    0.002898  0.002894    0.052124\n",
              "6006  2017-12-26  217.570007    0.030649  0.030189    0.044559\n",
              "6007  2017-12-27  218.199997    0.002896  0.002891    0.045179\n",
              "6008  2017-12-28  217.460007   -0.003391 -0.003397    0.046102\n",
              "6009  2017-12-29  221.039993    0.016463  0.016329    0.035272\n",
              "\n",
              "[63 rows x 5 columns]"
            ]
          },
          "metadata": {
            "tags": []
          },
          "execution_count": 129
        }
      ]
    },
    {
      "cell_type": "code",
      "metadata": {
        "colab": {
          "base_uri": "https://localhost:8080/"
        },
        "id": "bvw9XCXk4wKA",
        "outputId": "a61c0744-bd38-41fb-e794-060247a0ecb8"
      },
      "source": [
        "mean = filtered_dates['log_ret'].mean()\n",
        "std = filtered_dates['log_ret'].std()\n",
        "print(mean)\n",
        "print(std)"
      ],
      "execution_count": null,
      "outputs": [
        {
          "output_type": "stream",
          "text": [
            "0.0011008193258182407\n",
            "0.01652861274916962\n"
          ],
          "name": "stdout"
        }
      ]
    },
    {
      "cell_type": "code",
      "metadata": {
        "colab": {
          "base_uri": "https://localhost:8080/"
        },
        "id": "YlEDzOzJ7WCx",
        "outputId": "78b6b9b8-3870-4ef5-ad98-d4b2eaba1953"
      },
      "source": [
        "from scipy.stats import norm\n",
        "filtered_dates['pdf'] =  norm.pdf(filtered_dates['log_ret'],mean,std)"
      ],
      "execution_count": null,
      "outputs": [
        {
          "output_type": "stream",
          "text": [
            "/usr/local/lib/python3.6/dist-packages/ipykernel_launcher.py:2: SettingWithCopyWarning: \n",
            "A value is trying to be set on a copy of a slice from a DataFrame.\n",
            "Try using .loc[row_indexer,col_indexer] = value instead\n",
            "\n",
            "See the caveats in the documentation: https://pandas.pydata.org/pandas-docs/stable/user_guide/indexing.html#returning-a-view-versus-a-copy\n",
            "  \n"
          ],
          "name": "stderr"
        }
      ]
    },
    {
      "cell_type": "code",
      "metadata": {
        "colab": {
          "base_uri": "https://localhost:8080/",
          "height": 202
        },
        "id": "ukl90HfD5dmw",
        "outputId": "1bdeabe1-4dfd-4aa3-ddfa-111a991e4d6f"
      },
      "source": [
        "filtered_dates.head()"
      ],
      "execution_count": null,
      "outputs": [
        {
          "output_type": "execute_result",
          "data": {
            "text/html": [
              "<div>\n",
              "<style scoped>\n",
              "    .dataframe tbody tr th:only-of-type {\n",
              "        vertical-align: middle;\n",
              "    }\n",
              "\n",
              "    .dataframe tbody tr th {\n",
              "        vertical-align: top;\n",
              "    }\n",
              "\n",
              "    .dataframe thead th {\n",
              "        text-align: right;\n",
              "    }\n",
              "</style>\n",
              "<table border=\"1\" class=\"dataframe\">\n",
              "  <thead>\n",
              "    <tr style=\"text-align: right;\">\n",
              "      <th></th>\n",
              "      <th>Date</th>\n",
              "      <th>Close</th>\n",
              "      <th>pct_change</th>\n",
              "      <th>log_ret</th>\n",
              "      <th>volatility</th>\n",
              "      <th>pdf</th>\n",
              "    </tr>\n",
              "  </thead>\n",
              "  <tbody>\n",
              "    <tr>\n",
              "      <th>5947</th>\n",
              "      <td>2017-10-02</td>\n",
              "      <td>204.990005</td>\n",
              "      <td>-0.006013</td>\n",
              "      <td>-0.006031</td>\n",
              "      <td>0.037980</td>\n",
              "      <td>21.991144</td>\n",
              "    </tr>\n",
              "    <tr>\n",
              "      <th>5948</th>\n",
              "      <td>2017-10-03</td>\n",
              "      <td>206.410004</td>\n",
              "      <td>0.006927</td>\n",
              "      <td>0.006903</td>\n",
              "      <td>0.036460</td>\n",
              "      <td>22.694073</td>\n",
              "    </tr>\n",
              "    <tr>\n",
              "      <th>5949</th>\n",
              "      <td>2017-10-04</td>\n",
              "      <td>205.970001</td>\n",
              "      <td>-0.002132</td>\n",
              "      <td>-0.002134</td>\n",
              "      <td>0.031362</td>\n",
              "      <td>23.678628</td>\n",
              "    </tr>\n",
              "    <tr>\n",
              "      <th>5950</th>\n",
              "      <td>2017-10-05</td>\n",
              "      <td>209.910004</td>\n",
              "      <td>0.019129</td>\n",
              "      <td>0.018948</td>\n",
              "      <td>0.032790</td>\n",
              "      <td>13.473755</td>\n",
              "    </tr>\n",
              "    <tr>\n",
              "      <th>5951</th>\n",
              "      <td>2017-10-06</td>\n",
              "      <td>205.949997</td>\n",
              "      <td>-0.018865</td>\n",
              "      <td>-0.019045</td>\n",
              "      <td>0.033245</td>\n",
              "      <td>11.483332</td>\n",
              "    </tr>\n",
              "  </tbody>\n",
              "</table>\n",
              "</div>"
            ],
            "text/plain": [
              "            Date       Close  pct_change   log_ret  volatility        pdf\n",
              "5947  2017-10-02  204.990005   -0.006013 -0.006031    0.037980  21.991144\n",
              "5948  2017-10-03  206.410004    0.006927  0.006903    0.036460  22.694073\n",
              "5949  2017-10-04  205.970001   -0.002132 -0.002134    0.031362  23.678628\n",
              "5950  2017-10-05  209.910004    0.019129  0.018948    0.032790  13.473755\n",
              "5951  2017-10-06  205.949997   -0.018865 -0.019045    0.033245  11.483332"
            ]
          },
          "metadata": {
            "tags": []
          },
          "execution_count": 133
        }
      ]
    },
    {
      "cell_type": "code",
      "metadata": {
        "colab": {
          "base_uri": "https://localhost:8080/"
        },
        "id": "9CGgFp7_KTHZ",
        "outputId": "3ecb958c-7626-4073-9b59-8d9199de126c"
      },
      "source": [
        "start_date = \"2018-1-1\"\n",
        "end_date = \"2018-12-30\"\n",
        "\n",
        "after_start_date = df['Date'] >= start_date\n",
        "before_end_date = df['Date'] <= end_date\n",
        "between_two_dates = after_start_date & before_end_date\n",
        "filtered_dates2 = df.loc[between_two_dates]\n",
        "mean = filtered_dates2['log_ret'].mean()\n",
        "std = filtered_dates2['log_ret'].std()\n",
        "print(mean)\n",
        "print(std)\n",
        "filtered_dates2['pdf'] =  norm.pdf(filtered_dates2['log_ret'],mean,std)"
      ],
      "execution_count": null,
      "outputs": [
        {
          "output_type": "stream",
          "text": [
            "-0.001270266885938579\n",
            "0.023541743605860574\n"
          ],
          "name": "stdout"
        },
        {
          "output_type": "stream",
          "text": [
            "/usr/local/lib/python3.6/dist-packages/ipykernel_launcher.py:12: SettingWithCopyWarning: \n",
            "A value is trying to be set on a copy of a slice from a DataFrame.\n",
            "Try using .loc[row_indexer,col_indexer] = value instead\n",
            "\n",
            "See the caveats in the documentation: https://pandas.pydata.org/pandas-docs/stable/user_guide/indexing.html#returning-a-view-versus-a-copy\n",
            "  if sys.path[0] == '':\n"
          ],
          "name": "stderr"
        }
      ]
    },
    {
      "cell_type": "code",
      "metadata": {
        "colab": {
          "base_uri": "https://localhost:8080/"
        },
        "id": "nHXB5lTzHhse",
        "outputId": "8d9d65e8-875f-4651-cbb0-eaa2725832de"
      },
      "source": [
        "import matplotlib.pyplot as plt\n",
        "\n",
        "\n",
        "filtered_dates2['likelihood'] = np.log(filtered_dates2['pdf']).sum()\n",
        "filtered_dates2['posterior'] = filtered_dates2['pdf']*filtered_dates2['likelihood']\n"
      ],
      "execution_count": null,
      "outputs": [
        {
          "output_type": "stream",
          "text": [
            "/usr/local/lib/python3.6/dist-packages/ipykernel_launcher.py:4: SettingWithCopyWarning: \n",
            "A value is trying to be set on a copy of a slice from a DataFrame.\n",
            "Try using .loc[row_indexer,col_indexer] = value instead\n",
            "\n",
            "See the caveats in the documentation: https://pandas.pydata.org/pandas-docs/stable/user_guide/indexing.html#returning-a-view-versus-a-copy\n",
            "  after removing the cwd from sys.path.\n",
            "/usr/local/lib/python3.6/dist-packages/ipykernel_launcher.py:5: SettingWithCopyWarning: \n",
            "A value is trying to be set on a copy of a slice from a DataFrame.\n",
            "Try using .loc[row_indexer,col_indexer] = value instead\n",
            "\n",
            "See the caveats in the documentation: https://pandas.pydata.org/pandas-docs/stable/user_guide/indexing.html#returning-a-view-versus-a-copy\n",
            "  \"\"\"\n"
          ],
          "name": "stderr"
        }
      ]
    },
    {
      "cell_type": "code",
      "metadata": {
        "colab": {
          "base_uri": "https://localhost:8080/",
          "height": 202
        },
        "id": "vddMnRBvJXcT",
        "outputId": "22481579-4e3b-4dde-9f06-e9d8326c4ccf"
      },
      "source": [
        "filtered_dates2.head()"
      ],
      "execution_count": null,
      "outputs": [
        {
          "output_type": "execute_result",
          "data": {
            "text/html": [
              "<div>\n",
              "<style scoped>\n",
              "    .dataframe tbody tr th:only-of-type {\n",
              "        vertical-align: middle;\n",
              "    }\n",
              "\n",
              "    .dataframe tbody tr th {\n",
              "        vertical-align: top;\n",
              "    }\n",
              "\n",
              "    .dataframe thead th {\n",
              "        text-align: right;\n",
              "    }\n",
              "</style>\n",
              "<table border=\"1\" class=\"dataframe\">\n",
              "  <thead>\n",
              "    <tr style=\"text-align: right;\">\n",
              "      <th></th>\n",
              "      <th>Date</th>\n",
              "      <th>Close</th>\n",
              "      <th>pct_change</th>\n",
              "      <th>log_ret</th>\n",
              "      <th>volatility</th>\n",
              "      <th>pdf</th>\n",
              "      <th>likelihood</th>\n",
              "      <th>posterior</th>\n",
              "    </tr>\n",
              "  </thead>\n",
              "  <tbody>\n",
              "    <tr>\n",
              "      <th>6198</th>\n",
              "      <td>2018-10-01</td>\n",
              "      <td>184.360001</td>\n",
              "      <td>0.013245</td>\n",
              "      <td>0.013158</td>\n",
              "      <td>0.034811</td>\n",
              "      <td>14.044325</td>\n",
              "      <td>144.962578</td>\n",
              "      <td>2035.901608</td>\n",
              "    </tr>\n",
              "    <tr>\n",
              "      <th>6199</th>\n",
              "      <td>2018-10-02</td>\n",
              "      <td>184.949997</td>\n",
              "      <td>0.003200</td>\n",
              "      <td>0.003195</td>\n",
              "      <td>0.034801</td>\n",
              "      <td>16.644042</td>\n",
              "      <td>144.962578</td>\n",
              "      <td>2412.763303</td>\n",
              "    </tr>\n",
              "    <tr>\n",
              "      <th>6200</th>\n",
              "      <td>2018-10-03</td>\n",
              "      <td>185.350006</td>\n",
              "      <td>0.002163</td>\n",
              "      <td>0.002160</td>\n",
              "      <td>0.035532</td>\n",
              "      <td>16.767174</td>\n",
              "      <td>144.962578</td>\n",
              "      <td>2430.612729</td>\n",
              "    </tr>\n",
              "    <tr>\n",
              "      <th>6201</th>\n",
              "      <td>2018-10-04</td>\n",
              "      <td>186.000000</td>\n",
              "      <td>0.003507</td>\n",
              "      <td>0.003501</td>\n",
              "      <td>0.035973</td>\n",
              "      <td>16.601714</td>\n",
              "      <td>144.962578</td>\n",
              "      <td>2406.627304</td>\n",
              "    </tr>\n",
              "    <tr>\n",
              "      <th>6202</th>\n",
              "      <td>2018-10-05</td>\n",
              "      <td>182.610001</td>\n",
              "      <td>-0.018226</td>\n",
              "      <td>-0.018394</td>\n",
              "      <td>0.038117</td>\n",
              "      <td>13.007220</td>\n",
              "      <td>144.962578</td>\n",
              "      <td>1885.560076</td>\n",
              "    </tr>\n",
              "  </tbody>\n",
              "</table>\n",
              "</div>"
            ],
            "text/plain": [
              "            Date       Close  pct_change  ...        pdf  likelihood    posterior\n",
              "6198  2018-10-01  184.360001    0.013245  ...  14.044325  144.962578  2035.901608\n",
              "6199  2018-10-02  184.949997    0.003200  ...  16.644042  144.962578  2412.763303\n",
              "6200  2018-10-03  185.350006    0.002163  ...  16.767174  144.962578  2430.612729\n",
              "6201  2018-10-04  186.000000    0.003507  ...  16.601714  144.962578  2406.627304\n",
              "6202  2018-10-05  182.610001   -0.018226  ...  13.007220  144.962578  1885.560076\n",
              "\n",
              "[5 rows x 8 columns]"
            ]
          },
          "metadata": {
            "tags": []
          },
          "execution_count": 151
        }
      ]
    },
    {
      "cell_type": "code",
      "metadata": {
        "colab": {
          "base_uri": "https://localhost:8080/"
        },
        "id": "EFcWsS-wVgZZ",
        "outputId": "713cff36-5c6f-46e5-b23f-f2279ed6185f"
      },
      "source": [
        "start_date = \"2019-1-1\"\n",
        "end_date = \"2019-12-30\"\n",
        "\n",
        "after_start_date = df['Date'] >= start_date\n",
        "before_end_date = df['Date'] <= end_date\n",
        "between_two_dates = after_start_date & before_end_date\n",
        "filtered_dates3 = df.loc[between_two_dates]\n",
        "mean = filtered_dates3['log_ret'].mean()\n",
        "std = filtered_dates3['log_ret'].std()\n",
        "print(mean)\n",
        "print(std)\n",
        "filtered_dates3['pdf'] =  norm.pdf(filtered_dates3['log_ret'],mean,std)\n"
      ],
      "execution_count": null,
      "outputs": [
        {
          "output_type": "stream",
          "text": [
            "0.0002214009424468079\n",
            "0.010237162652455315\n"
          ],
          "name": "stdout"
        },
        {
          "output_type": "stream",
          "text": [
            "/usr/local/lib/python3.6/dist-packages/ipykernel_launcher.py:12: SettingWithCopyWarning: \n",
            "A value is trying to be set on a copy of a slice from a DataFrame.\n",
            "Try using .loc[row_indexer,col_indexer] = value instead\n",
            "\n",
            "See the caveats in the documentation: https://pandas.pydata.org/pandas-docs/stable/user_guide/indexing.html#returning-a-view-versus-a-copy\n",
            "  if sys.path[0] == '':\n",
            "/usr/local/lib/python3.6/dist-packages/ipykernel_launcher.py:13: SettingWithCopyWarning: \n",
            "A value is trying to be set on a copy of a slice from a DataFrame.\n",
            "Try using .loc[row_indexer,col_indexer] = value instead\n",
            "\n",
            "See the caveats in the documentation: https://pandas.pydata.org/pandas-docs/stable/user_guide/indexing.html#returning-a-view-versus-a-copy\n",
            "  del sys.path[0]\n"
          ],
          "name": "stderr"
        }
      ]
    },
    {
      "cell_type": "code",
      "metadata": {
        "colab": {
          "base_uri": "https://localhost:8080/"
        },
        "id": "sv7NsBfFVlWr",
        "outputId": "6861fb84-2372-4cce-dc8e-9ff519508b21"
      },
      "source": [
        "filtered_dates3['likelihood'] = np.log(filtered_dates3['pdf']).sum()\n",
        "posterior_pdf_f1 = filtered_dates2['posterior'].to_numpy()\n",
        "posterior_pdf_f2 = posterior_pdf_f1*199.95\n",
        "print(posterior_pdf_f2)"
      ],
      "execution_count": null,
      "outputs": [
        {
          "output_type": "stream",
          "text": [
            "[407078.52644721 482432.02247194 486001.01506691 481205.12937937\n",
            " 377017.73727422 488601.55844035 453992.71548329 265234.3574684\n",
            " 114772.14414517 477846.10589099 481961.80270143 346511.81223873\n",
            " 195622.11989539 352648.75557918 478492.43198004 474553.1856399\n",
            " 311338.69190772 490722.74075683 447126.42840961 197240.30305567\n",
            " 342270.17846492   1267.36116304 202748.65684264 286908.90826529\n",
            " 417682.10805165 416800.39412582   1121.23763552 488690.65946399\n",
            " 475344.82193646 333948.40819063 410591.01489668 395524.37660455\n",
            " 349627.09513681 463480.07490017 488216.1096785  389622.08889117\n",
            " 490073.74425692 464364.67317506 487927.49234241 243272.95941201\n",
            " 481470.66179201 203261.97219344 475128.89477727 214323.10653418\n",
            " 336347.87400234  61608.33532075 469413.4289037  291747.28489178\n",
            " 469773.03552503 434088.96594771 455263.14577419 356262.76267548\n",
            " 487334.30142421 474556.85276698 456690.21866078 226994.26279631\n",
            " 335208.25724063 404245.1357729  464652.42714098 137181.12558981\n",
            " 481582.00982755 430608.61820952]\n"
          ],
          "name": "stdout"
        }
      ]
    }
  ]
}